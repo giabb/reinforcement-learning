{
 "cells": [
  {
   "cell_type": "markdown",
   "metadata": {},
   "source": [
    "# Reinforcement Learning Project 
    "### Algorithm: **SAC** - Continuous action space environment: **Ant**"
   ]
  },
  {
   "cell_type": "markdown",
   "metadata": {},
   "source": [
    "### Importing libraries"
   ]
  },
  {
   "cell_type": "code",
   "execution_count": null,
   "metadata": {},
   "outputs": [],
   "source": [
    "import os\n",
    "import warnings\n",
    "#Since stable_baselines requires TF 1.x, this is done to suppress warnings related to TF 2.x\n",
    "os.environ['TF_CPP_MIN_LOG_LEVEL'] = '3'\n",
    "warnings.simplefilter(action='ignore', category=FutureWarning)\n",
    "warnings.simplefilter(action='ignore', category=Warning)\n",
    "\n",
    "import numpy as np\n",
    "from scipy import stats\n",
    "\n",
    "from tqdm.auto import tqdm\n",
    "from IPython.display import Audio, display\n",
    "\n",
    "from stable_baselines import SAC\n",
    "from stable_baselines.results_plotter import load_results, ts2xy\n",
    "from stable_baselines.bench import Monitor\n",
    "from stable_baselines.common.policies import register_policy\n",
    "from stable_baselines.sac.policies import FeedForwardPolicy as SACPolicy\n",
    "\n",
    "import gym\n",
    "from gym.wrappers import TimeLimit"
   ]
  },
  {
   "cell_type": "markdown",
   "metadata": {},
   "source": [
    "### Evaluation Function"
   ]
  },
  {
   "cell_type": "code",
   "execution_count": null,
   "metadata": {},
   "outputs": [],
   "source": [
    "def evaluate(model, num_episodes=100):\n",
    "    \"\"\"\n",
    "    Evaluate a RL agent\n",
    "    :param model: (BaseRLModel object) the RL Agent\n",
    "    :param num_episodes: (int) number of episodes to evaluate it\n",
    "    :return: (array of float) Mean/STD/SEM rewards for the last num_episodes\n",
    "    \"\"\"\n",
    "    env = model.get_env()\n",
    "    all_episode_rewards = []\n",
    "    for i in range(num_episodes):\n",
    "        if i % 10 == 0:\n",
    "            print(i/num_episodes*100,'%')\n",
    "        episode_rewards = []\n",
    "        done = False\n",
    "        obs = env.reset()\n",
    "        while not done:\n",
    "            #env.render()\n",
    "            # _states are only useful when using LSTM policies\n",
    "            action, _states = model.predict(obs)\n",
    "            obs, reward, done, info = env.step(action)\n",
    "            episode_rewards.append(reward)\n",
    "        all_episode_rewards.append(sum(episode_rewards))\n",
    "        #env.close()\n",
    "    mean_episode_reward = np.mean(all_episode_rewards)\n",
    "    std_episode_reward = np.std(all_episode_rewards)\n",
    "    sem_episode_reward = stats.sem(all_episode_rewards, axis=None, ddof=0)\n",
    "    print(\"Evaluated on\",num_episodes,\"episodes.\")\n",
    "    print(\"STD Result:\",int(mean_episode_reward),\"±\",int(std_episode_reward))\n",
    "    print(\"SEM Result:\",int(mean_episode_reward),\"±\",int(sem_episode_reward))\n",
    "    allDone()\n",
    "    return np.asarray([mean_episode_reward, std_episode_reward, sem_episode_reward])"
   ]
  },
  {
   "cell_type": "markdown",
   "metadata": {},
   "source": [
    "### Defining a custom policy and a custom wrapper\n"
   ]
  },
  {
   "cell_type": "code",
   "execution_count": null,
   "metadata": {},
   "outputs": [],
   "source": [
    "class CustomSACPolicy(SACPolicy):\n",
    "    def __init__(self, *args, **kwargs):\n",
    "        super(CustomSACPolicy, self).__init__(*args, **kwargs,\n",
    "                                              layers=[256, 256],\n",
    "                                              feature_extraction=\"mlp\")\n",
    "        \n",
    "register_policy('CustomSACPolicy', CustomSACPolicy)\n",
    "\n",
    "class TimeFeatureWrapper(gym.Wrapper):\n",
    "    \"\"\"\n",
    "    Add remaining time to observation space for fixed length episodes.\n",
    "    :param env: (gym.Env)\n",
    "    :param max_steps: (int) Max number of steps of an episode\n",
    "        if it is not wrapped in a TimeLimit object.\n",
    "    :param test_mode: (bool) In test mode, the time feature is constant,\n",
    "        equal to zero. This allow to check that the agent did not overfit this feature,\n",
    "        learning a deterministic pre-defined sequence of actions.\n",
    "    \"\"\"\n",
    "    def __init__(self, env, max_steps=1000, test_mode=False):\n",
    "        assert isinstance(env.observation_space, gym.spaces.Box)\n",
    "        # Add a time feature to the observation\n",
    "        low, high = env.observation_space.low, env.observation_space.high\n",
    "        low, high= np.concatenate((low, [0])), np.concatenate((high, [1.]))\n",
    "        env.observation_space = gym.spaces.Box(low=low, high=high, dtype=np.float32)\n",
    "\n",
    "        super(TimeFeatureWrapper, self).__init__(env)\n",
    "\n",
    "        if isinstance(env, TimeLimit):\n",
    "            self._max_steps = env._max_episode_steps\n",
    "        else:\n",
    "            self._max_steps = max_steps\n",
    "        self._current_step = 0\n",
    "        self._test_mode = test_mode\n",
    "\n",
    "    def reset(self):\n",
    "        self._current_step = 0\n",
    "        return self._get_obs(self.env.reset())\n",
    "\n",
    "    def step(self, action):\n",
    "        self._current_step += 1\n",
    "        obs, reward, done, info = self.env.step(action)\n",
    "        return self._get_obs(obs), reward, done, info\n",
    "\n",
    "    def _get_obs(self, obs):\n",
    "        \"\"\"\n",
    "        Concatenate the time feature to the current observation.\n",
    "        :param obs: (np.ndarray)\n",
    "        :return: (np.ndarray)\n",
    "        \"\"\"\n",
    "        # Remaining time is more general\n",
    "        time_feature = 1 - (self._current_step / self._max_steps)\n",
    "        if self._test_mode:\n",
    "            time_feature = 1.0\n",
    "        # Optionnaly: concatenate [time_feature, time_feature ** 2]\n",
    "        return np.concatenate((obs, [time_feature]))"
   ]
  },
  {
   "cell_type": "markdown",
   "metadata": {},
   "source": [
    "### Defining callback functions to improve waiting time and results"
   ]
  },
  {
   "cell_type": "code",
   "execution_count": null,
   "metadata": {},
   "outputs": [],
   "source": [
    "log_dir = \"./Weights/tmp/\"\n",
    "\n",
    "# this callback uses the 'with' block, allowing for correct initialisation and destruction\n",
    "class progressbar_callback(object):\n",
    "    def __init__(self, total_timesteps): # init object with total timesteps\n",
    "        self.pbar = None\n",
    "        self.total_timesteps = total_timesteps\n",
    "        \n",
    "    def __enter__(self): # create the progress bar and callback, return the callback\n",
    "        self.pbar = tqdm(total=self.total_timesteps)\n",
    "        \n",
    "        def callback_progressbar(local_, global_):\n",
    "            self.pbar.n = local_[\"self\"].num_timesteps\n",
    "            self.pbar.update(0)\n",
    "            \n",
    "        return callback_progressbar\n",
    "\n",
    "    def __exit__(self, exc_type, exc_val, exc_tb): # close the callback\n",
    "        self.pbar.n = self.total_timesteps\n",
    "        self.pbar.update(0)\n",
    "        self.pbar.close()\n",
    "\n",
    "\n",
    "def get_callback_vars(model, **kwargs): \n",
    "    \"\"\"\n",
    "    Helps store variables for the callback functions\n",
    "    :param model: (BaseRLModel)\n",
    "    :param **kwargs: initial values of the callback variables\n",
    "    \"\"\"\n",
    "    # save the called attribute in the model\n",
    "    if not hasattr(model, \"_callback_vars\"): \n",
    "        model._callback_vars = dict(**kwargs)\n",
    "    else: # check all the kwargs are in the callback variables\n",
    "        for (name, val) in kwargs.items():\n",
    "            if name not in model._callback_vars:\n",
    "                model._callback_vars[name] = val\n",
    "    return model._callback_vars # return dict reference (mutable)\n",
    "\n",
    "        \n",
    "def auto_save_callback(_locals, _globals):\n",
    "    # get callback variables, with default values if unintialized\n",
    "    callback_vars = get_callback_vars(_locals[\"self\"], n_steps=0, best_mean_reward=-np.inf) \n",
    "    # skip every 20 steps\n",
    "    if callback_vars[\"n_steps\"] % 20 == 0:\n",
    "        # Evaluate policy training performance\n",
    "        x, y = ts2xy(load_results(log_dir), 'timesteps')\n",
    "        if len(x) > 0:\n",
    "            mean_reward = np.mean(y[-100:])\n",
    "            if mean_reward > callback_vars[\"best_mean_reward\"]:\n",
    "                callback_vars[\"best_mean_reward\"] = mean_reward\n",
    "                print(\"Saving new best model at {} timesteps\".format(x[-1]))\n",
    "                _locals['self'].save(log_dir + 'best_model')\n",
    "    callback_vars[\"n_steps\"] += 1\n",
    "    return True\n",
    "\n",
    "\n",
    "def compose_callback(*callback_funcs): # takes a list of functions, and returns the composed function.\n",
    "    def _callback(_locals, _globals):\n",
    "        continue_training = True\n",
    "        for cb_func in callback_funcs:\n",
    "            if cb_func(_locals, _globals) is False: # as a callback can return None for legacy reasons.\n",
    "                continue_training = False\n",
    "        return continue_training\n",
    "    return _callback\n",
    "\n",
    "\n",
    "def allDone():\n",
    "    #Audio triggered at the end of the evaluation\n",
    "    display(Audio(url='https://sound.peal.io/ps/audios/000/000/537/original/woo_vu_luvub_dub_dub.wav', autoplay=True))"
   ]
  },
  {
   "cell_type": "markdown",
   "metadata": {},
   "source": [
    "### Defining Ant environment and SAC algorithm for it"
   ]
  },
  {
   "cell_type": "code",
   "execution_count": null,
   "metadata": {},
   "outputs": [],
   "source": [
    "env = gym.make('Ant-v2')\n",
    "env = Monitor(env, log_dir, allow_early_resets=True)\n",
    "env = TimeFeatureWrapper(env)\n",
    "\n",
    "model = SAC(CustomSACPolicy, \n",
    "            env,\n",
    "            gamma = 0.99,\n",
    "            learning_rate = 3e-4,\n",
    "            buffer_size = int(1e6),\n",
    "            batch_size = 256,\n",
    "            ent_coef = 'auto',\n",
    "            train_freq = 1,\n",
    "            tau = 0.01,\n",
    "            gradient_steps = 1,\n",
    "            learning_starts = int(1e5),\n",
    "            tensorboard_log = './Tensorboard/',\n",
    "            verbose = False)"
   ]
  },
  {
   "cell_type": "markdown",
   "metadata": {},
   "source": [
    "### Training the model"
   ]
  },
  {
   "cell_type": "code",
   "execution_count": null,
   "metadata": {},
   "outputs": [],
   "source": [
    "n_timesteps = int(3e6)#2e6\n",
    "env.reset()\n",
    "with progressbar_callback(n_timesteps) as prog_cb: # this the garanties that the tqdm progress bar closes correctly\n",
    "    model.learn(n_timesteps, callback=compose_callback(prog_cb, auto_save_callback))\n",
    "allDone()"
   ]
  },
  {
   "cell_type": "markdown",
   "metadata": {},
   "source": [
    "### Saving the model at the end of the training"
   ]
  },
  {
   "cell_type": "code",
   "execution_count": null,
   "metadata": {},
   "outputs": [],
   "source": [
    "save_dir = \"./Weights/\"\n",
    "os.makedirs(save_dir, exist_ok=True)\n",
    "model.save(save_dir + \"end_training\")"
   ]
  },
  {
   "cell_type": "markdown",
   "metadata": {},
   "source": [
    "### Evaluating results on loaded models "
   ]
  },
  {
   "cell_type": "code",
   "execution_count": null,
   "metadata": {},
   "outputs": [],
   "source": [
    "try:\n",
    "    del model #Added in order to clear the model and load a pretrained one\n",
    "    print('Model reset. Starting evaluation...')\n",
    "except:\n",
    "    print('No previous model found, starting evaluation...')\n",
    "save_dir = \"./Weights/\"\n",
    "model = SAC.load(save_dir + \"best_model.zip\", env = env) #or end_training.zip\n",
    "evaluate(model)"
   ]
  }
 ],
 "metadata": {
  "kernelspec": {
   "display_name": "Python 3",
   "language": "python",
   "name": "python3"
  },
  "language_info": {
   "codemirror_mode": {
    "name": "ipython",
    "version": 3
   },
   "file_extension": ".py",
   "mimetype": "text/x-python",
   "name": "python",
   "nbconvert_exporter": "python",
   "pygments_lexer": "ipython3",
   "version": "3.6.9"
  }
 },
 "nbformat": 4,
 "nbformat_minor": 2
}
